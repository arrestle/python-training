{
 "cells": [
  {
   "cell_type": "markdown",
   "id": "6a6c3649",
   "metadata": {},
   "source": [
    "## ASCII Art Encoding\n"
   ]
  },
  {
   "cell_type": "code",
   "execution_count": null,
   "id": "16ad9149",
   "metadata": {},
   "outputs": [
    {
     "name": "stdout",
     "output_type": "stream",
     "text": [
      "[('A', 3), ('B', 2), ('C', 3)]\n",
      "AAABBCCC\n"
     ]
    }
   ],
   "source": [
    "# Python code​​​​​​‌‌​​​​​‌‌‌‌‌​​​​​​‌‌‌‌​‌​ below\n",
    "\n",
    "def encodeString(stringVal):\n",
    "    previous = stringVal[0]\n",
    "    count = 0\n",
    "    alist = {}\n",
    "    for i in range(len(stringVal)):\n",
    "        if stringVal[i] != previous:\n",
    "            alist[previous] = count\n",
    "            count = 1\n",
    "            previous = stringVal[i]\n",
    "        else:\n",
    "            count += 1\n",
    "    alist[previous] = count\n",
    "    \n",
    "    return alist.items()\n",
    "\n",
    "def encodeString(stringVal):\n",
    "    previous = stringVal[0]\n",
    "    count = 0\n",
    "    result = [] # create an empty list\n",
    "    \n",
    "    for i in range(len(stringVal)):\n",
    "        if stringVal[i] != previous:\n",
    "            result.append((previous, count))  # Append a tuple to the list\n",
    "            count = 1\n",
    "            previous = stringVal[i]\n",
    "        else:\n",
    "            count += 1\n",
    "    \n",
    "    # Append the last character and its count as a tuple\n",
    "    result.append((previous, count))\n",
    "    \n",
    "    return result\n",
    "\n",
    "def decodeString(encodedList):\n",
    "    result = \"\"\n",
    "    for i in encodedList:\n",
    "        result += i[0]*i[1]\n",
    "    return result\n",
    "\n",
    "print(encodeString(\"AAABBCCC\"))\n",
    "print(decodeString([('A', 3), ('B', 2), ('C', 3)]))"
   ]
  },
  {
   "cell_type": "markdown",
   "id": "47490f41",
   "metadata": {},
   "source": [
    "### Challenge Hints!"
   ]
  },
  {
   "cell_type": "markdown",
   "id": "a8c64bd5",
   "metadata": {},
   "source": [
    "**Hint 1:** While iterating through each character of a string, we can print out when a string has \"switched\" from one character to another:"
   ]
  },
  {
   "cell_type": "code",
   "execution_count": 2,
   "id": "c3d70033",
   "metadata": {},
   "outputs": [
    {
     "name": "stdout",
     "output_type": "stream",
     "text": [
      "New character is A\n",
      "New character is B\n",
      "New character is C\n"
     ]
    }
   ],
   "source": [
    "stringVal = 'AAAAABBBBBCCCCC'\n",
    "\n",
    "prevChar = None\n",
    "for char in stringVal:\n",
    "    if char != prevChar:\n",
    "        print(f'New character is {char}')\n",
    "    prevChar = char"
   ]
  },
  {
   "cell_type": "markdown",
   "id": "54ce72f7",
   "metadata": {},
   "source": [
    "**Hint 2:** Remember that you can multiply a string by a number!"
   ]
  },
  {
   "cell_type": "code",
   "execution_count": 3,
   "id": "7ab4bd96",
   "metadata": {},
   "outputs": [
    {
     "data": {
      "text/plain": [
       "'AAAAA'"
      ]
     },
     "execution_count": 3,
     "metadata": {},
     "output_type": "execute_result"
    }
   ],
   "source": [
    "'A'*5"
   ]
  },
  {
   "cell_type": "code",
   "execution_count": 1,
   "id": "7777d38e",
   "metadata": {},
   "outputs": [],
   "source": [
    "def encodeString(stringVal):\n",
    "    pass\n",
    "\n",
    "def decodeString(encodedList):\n",
    "    pass"
   ]
  },
  {
   "cell_type": "code",
   "execution_count": 2,
   "id": "3eee6256",
   "metadata": {},
   "outputs": [],
   "source": [
    "art = '''\n",
    "\n",
    "                                                                                \n",
    "                                                                                \n",
    "                               %%%%%%%%%%%%%%%%%%%                              \n",
    "                        %%%%%%%%%%%%%%%%%%%%%%%%%%%%%%%%%                       \n",
    "                    %%%%%%%%                         %%%%%%%%                   \n",
    "                %%%%%%%                                   %%%%%%                \n",
    "              %%%%%%                                         %%%%%%             \n",
    "           %%%%%%                                               %%%%%           \n",
    "          %%%%%                                                   %%%%%         \n",
    "        %%%%%                                                       %%%%%       \n",
    "       %%%%                 %%%%%              %%%%%                  %%%%      \n",
    "      %%%%                 %%%%%%%            %%%%%%%                  %%%%     \n",
    "     %%%%                  %%%%%%%            %%%%%%%                   %%%%    \n",
    "    %%%%                   %%%%%%%            %%%%%%%                    %%%%   \n",
    "    %%%%                    %%%%%              %%%%%                     %%%%   \n",
    "   %%%%                                                                   %%%%  \n",
    "   %%%%                                                                   %%%%  \n",
    "   %%%%                                                                   %%%%  \n",
    "   %%%%                                                      %%%%        %%%%   \n",
    "    %%%%       %%%%%%                                        %%%%%       %%%%   \n",
    "    %%%%         %%%%                                       %%%%        %%%%    \n",
    "     %%%%         %%%%                                     %%%%         %%%%    \n",
    "      %%%%         %%%%%                                  %%%%         %%%%     \n",
    "       %%%%%         %%%%%                             %%%%%         %%%%%      \n",
    "        %%%%%          %%%%%%                        %%%%%          %%%%        \n",
    "          %%%%%           %%%%%%%               %%%%%%%           %%%%%         \n",
    "            %%%%%             %%%%%%%%%%%%%%%%%%%%%             %%%%%           \n",
    "              %%%%%%%                                        %%%%%              \n",
    "                 %%%%%%%                                 %%%%%%%                \n",
    "                     %%%%%%%%%                     %%%%%%%%%                    \n",
    "                          %%%%%%%%%%%%%%%%%%%%%%%%%%%%%                         \n",
    "                                   %%%%%%%%%%%%                                 \n",
    "                                                                                \n",
    "                                                                                 \n",
    "\n",
    "'''"
   ]
  },
  {
   "cell_type": "code",
   "execution_count": 7,
   "id": "dec27033",
   "metadata": {},
   "outputs": [],
   "source": [
    "encodedString = encodeString(art)"
   ]
  },
  {
   "cell_type": "code",
   "execution_count": 8,
   "id": "942d4ff8",
   "metadata": {},
   "outputs": [],
   "source": [
    "decodeString(encodedString)"
   ]
  },
  {
   "cell_type": "code",
   "execution_count": 21,
   "id": "e1485f53",
   "metadata": {},
   "outputs": [
    {
     "name": "stdout",
     "output_type": "stream",
     "text": [
      "[[1, 'i', 'a'], ['2', 'we', 'be', 'it'], [3, 'are', 'few', 'too']]\n"
     ]
    },
    {
     "data": {
      "text/plain": [
       "{1: ['i', 'a'], '2': ['we', 'be', 'it'], 3: ['are', 'few', 'too']}"
      ]
     },
     "execution_count": 21,
     "metadata": {},
     "output_type": "execute_result"
    }
   ],
   "source": [
    "values = [[1, 'i', 'a'], ['2', 'we', 'be', 'it'], [3, 'are', 'few', 'too']]\n",
    "print(values)\n",
    "\n",
    "{item[0]: item[1:] for item in values} # dictionary comprehension"
   ]
  },
  {
   "cell_type": "code",
   "execution_count": 5,
   "id": "f27b5d73",
   "metadata": {},
   "outputs": [
    {
     "name": "stdout",
     "output_type": "stream",
     "text": [
      "[<__main__.Blog object at 0x000001FC4E67BB60>, <__main__.Blog object at 0x000001FC4E646C10>]\n",
      "['Great post!', 'I love it!']\n",
      "[['Great post!', 'I love it!'], ['Another great post!']]\n",
      "[['great post!', 'i love it!'], ['another great post!']]\n",
      "[[{'Great post!': 'great post!'}, {'I love it!': 'i love it!'}], [{'Another great post!': 'another great post!'}]]\n"
     ]
    }
   ],
   "source": [
    "#create a blog class with comments\n",
    "class Blog:\n",
    "    def __init__(self, title, content):\n",
    "        self.title = title\n",
    "        self.content = content\n",
    "        self.comments = []\n",
    "        \n",
    "    def addComment(self, comment):\n",
    "        self.comments.append(comment)\n",
    "        \n",
    "    def __str__(self):\n",
    "        return f'{self.title}\\n\\n{self.content}\\n\\nComments: {self.comments}'\n",
    "    \n",
    "blog = Blog('My first blog', 'This is my first blog post')\n",
    "blog.addComment('Great post!')\n",
    "blog.addComment('I love it!')\n",
    "\n",
    "\n",
    "blogs = [blog]\n",
    "blogs.append(Blog('My second blog', 'This is my second blog post'))\n",
    "blogs[1].addComment('Another great post!')\n",
    "\n",
    "print(blogs)\n",
    "\n",
    "def someFunc(stringVal):\n",
    "    return stringVal.lower()\n",
    "\n",
    "print([comment for comment in blog.comments]) # only the first blog post\n",
    "print([[comment for comment in blog.comments] for blog in blogs]) # all comments from all blog posts\n",
    "\n",
    "print([[someFunc(comment) for comment in blog.comments] for blog in blogs]) # list comprehension returning a list\n",
    "\n",
    "\n",
    "print([[{comment:someFunc(comment)} for comment in blog.comments] for blog in blogs]) # list comprehension returning a dictionary\n",
    "\n",
    "\n",
    "\n"
   ]
  },
  {
   "cell_type": "code",
   "execution_count": 16,
   "id": "7edbe022",
   "metadata": {},
   "outputs": [
    {
     "name": "stdout",
     "output_type": "stream",
     "text": [
      "[100, 95, 90, 85, 80, 75, 70, 65, 60, 55, 50, 45, 40, 35, 30, 25, 20, 15, 10, 5, 0]\n"
     ]
    }
   ],
   "source": [
    "print(list(range(101))[::-5])"
   ]
  }
 ],
 "metadata": {
  "kernelspec": {
   "display_name": "Python 3",
   "language": "python",
   "name": "python3"
  },
  "language_info": {
   "codemirror_mode": {
    "name": "ipython",
    "version": 3
   },
   "file_extension": ".py",
   "mimetype": "text/x-python",
   "name": "python",
   "nbconvert_exporter": "python",
   "pygments_lexer": "ipython3",
   "version": "3.13.0"
  }
 },
 "nbformat": 4,
 "nbformat_minor": 5
}
