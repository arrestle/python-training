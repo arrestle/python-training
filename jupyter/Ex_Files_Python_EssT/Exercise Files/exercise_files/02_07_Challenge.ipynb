{
 "cells": [
  {
   "cell_type": "markdown",
   "id": "48f2163c",
   "metadata": {},
   "source": [
    "## Factorial Challenge\n",
    "\n",
    "The factorial function gives the number of possible arrangements of a set of items of length \"n\"\n",
    "\n",
    "For example, there are 4! (\"four factorial\") or 24 ways to arrange four items, which can be calculated as: \n",
    "4 \\* 3 \\* 2 \\* 1\n",
    "\n",
    "5! = 5 \\* 4 \\* 3 \\* 2 \\* 1 = 120\n",
    "\n",
    "6! = 6 \\* 5 \\* 4 \\* 3 \\* 2 \\* 1 = 720\n",
    "\n",
    "etc.\n",
    "\n",
    "In a set of 0 items (an empty set) there is only one way to arrange the items, therefore, 0! = 1\n",
    "\n",
    "For the purposes of this exercise, factorials are only defined for **positive integers** (including 0)\n",
    "\n"
   ]
  },
  {
   "cell_type": "markdown",
   "id": "76c229aa",
   "metadata": {},
   "source": [
    "### Challenge Hints!"
   ]
  },
  {
   "cell_type": "markdown",
   "id": "102ebdab",
   "metadata": {},
   "source": [
    "**HINT 1:** You can figure out whether a variable is of a certain type in the following way:\n"
   ]
  },
  {
   "cell_type": "code",
   "execution_count": 18,
   "id": "df2ebdca",
   "metadata": {
    "scrolled": true
   },
   "outputs": [
    {
     "name": "stdout",
     "output_type": "stream",
     "text": [
      "myVar is an integer!\n"
     ]
    }
   ],
   "source": [
    "myVar = 1\n",
    "\n",
    "if type(myVar) == int:\n",
    "    print('myVar is an integer!')\n",
    "\n",
    "if type(myVar) != int:\n",
    "    print('myVar is NOT an integer!')"
   ]
  },
  {
   "cell_type": "markdown",
   "id": "77f06600",
   "metadata": {},
   "source": [
    "**HINT 2:** You can create a while loop and manipulate multiple variables inside of it:"
   ]
  },
  {
   "cell_type": "code",
   "execution_count": 19,
   "id": "6ac23a6d",
   "metadata": {},
   "outputs": [
    {
     "data": {
      "text/plain": [
       "55"
      ]
     },
     "execution_count": 19,
     "metadata": {},
     "output_type": "execute_result"
    }
   ],
   "source": [
    "# This prints the sum of all of the numbers from 1 to 10\n",
    "i = 0\n",
    "s = 0\n",
    "while i < 10:\n",
    "    i = i + 1\n",
    "    s = s + i\n",
    "\n",
    "s"
   ]
  },
  {
   "cell_type": "markdown",
   "id": "c058630b",
   "metadata": {},
   "source": [
    "**HINT 3:** Alternatively, a function can call itself! This is called \"recursion\" This also returns the sum of all numbers from 0 to 10:\n"
   ]
  },
  {
   "cell_type": "code",
   "execution_count": 20,
   "id": "094c9140",
   "metadata": {},
   "outputs": [
    {
     "data": {
      "text/plain": [
       "55"
      ]
     },
     "execution_count": 20,
     "metadata": {},
     "output_type": "execute_result"
    }
   ],
   "source": [
    "def addNumbers(i):\n",
    "    if i == 0:\n",
    "        return 0\n",
    "    return i + addNumbers(i - 1)\n",
    "    \n",
    "addNumbers(10)"
   ]
  },
  {
   "cell_type": "code",
   "execution_count": 21,
   "id": "92af0386",
   "metadata": {},
   "outputs": [],
   "source": [
    "# Returns the value of the factorial of num if it is defined, otherwise, returns None\n",
    "# Python code​​​​​​‌‌​​​​​‌‌‌​‌‌​​​​‌​‌​​​‌‌ below\n",
    "\n",
    "def factorial1(num):\n",
    "    # Your code goes here.\n",
    "    answer = 1\n",
    "\n",
    "    if type(num) != int:\n",
    "      return None\n",
    "\n",
    "    if num < 0:\n",
    "        return None\n",
    "\n",
    "    while num > 1:\n",
    "       answer = answer * num\n",
    "       num = num - 1\n",
    "    return answer       \n",
    "\n",
    "\n",
    "\n",
    "def factorial(n):\n",
    "    # Check for non-integer or negative integer\n",
    "    if not isinstance(n, int) or n < 0:\n",
    "        return None\n",
    "    # Base case: 0! = 1\n",
    "    if n == 0:\n",
    "        return 1\n",
    "    # Recursive case: n! = n * (n-1)!\n",
    "    return n * factorial(n - 1)\n"
   ]
  },
  {
   "cell_type": "code",
   "execution_count": 22,
   "id": "1d10be7a",
   "metadata": {},
   "outputs": [
    {
     "data": {
      "text/plain": [
       "120"
      ]
     },
     "execution_count": 22,
     "metadata": {},
     "output_type": "execute_result"
    }
   ],
   "source": [
    "factorial(5)"
   ]
  },
  {
   "cell_type": "code",
   "execution_count": 23,
   "id": "c43845c1",
   "metadata": {},
   "outputs": [
    {
     "data": {
      "text/plain": [
       "1"
      ]
     },
     "execution_count": 23,
     "metadata": {},
     "output_type": "execute_result"
    }
   ],
   "source": [
    "factorial(0)"
   ]
  },
  {
   "cell_type": "code",
   "execution_count": 24,
   "id": "8f605415",
   "metadata": {},
   "outputs": [],
   "source": [
    "factorial(-2)"
   ]
  },
  {
   "cell_type": "code",
   "execution_count": 25,
   "id": "5b973ff0",
   "metadata": {},
   "outputs": [],
   "source": [
    "factorial(1.2)"
   ]
  },
  {
   "cell_type": "code",
   "execution_count": 27,
   "id": "67f07cca",
   "metadata": {},
   "outputs": [],
   "source": [
    "factorial('spam spam spam spam spam spam')"
   ]
  },
  {
   "cell_type": "code",
   "execution_count": 28,
   "id": "714148cd",
   "metadata": {},
   "outputs": [
    {
     "ename": "AttributeError",
     "evalue": "'tuple' object has no attribute 'append'",
     "output_type": "error",
     "traceback": [
      "\u001b[1;31m---------------------------------------------------------------------------\u001b[0m",
      "\u001b[1;31mAttributeError\u001b[0m                            Traceback (most recent call last)",
      "Cell \u001b[1;32mIn[28], line 2\u001b[0m\n\u001b[0;32m      1\u001b[0m var \u001b[38;5;241m=\u001b[39m (\u001b[38;5;241m1\u001b[39m,\u001b[38;5;241m2\u001b[39m,\u001b[38;5;241m3\u001b[39m)\n\u001b[1;32m----> 2\u001b[0m \u001b[43mvar\u001b[49m\u001b[38;5;241;43m.\u001b[39;49m\u001b[43mappend\u001b[49m(\u001b[38;5;241m4\u001b[39m)\n",
      "\u001b[1;31mAttributeError\u001b[0m: 'tuple' object has no attribute 'append'"
     ]
    }
   ],
   "source": [
    "var = (1,2,3)\n",
    "var.append(4)"
   ]
  }
 ],
 "metadata": {
  "kernelspec": {
   "display_name": "Python 3",
   "language": "python",
   "name": "python3"
  },
  "language_info": {
   "codemirror_mode": {
    "name": "ipython",
    "version": 3
   },
   "file_extension": ".py",
   "mimetype": "text/x-python",
   "name": "python",
   "nbconvert_exporter": "python",
   "pygments_lexer": "ipython3",
   "version": "3.13.0"
  }
 },
 "nbformat": 4,
 "nbformat_minor": 5
}
