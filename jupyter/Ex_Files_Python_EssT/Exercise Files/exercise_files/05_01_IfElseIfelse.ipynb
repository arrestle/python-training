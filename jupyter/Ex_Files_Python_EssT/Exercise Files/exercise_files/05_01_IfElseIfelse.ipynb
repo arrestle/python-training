{
 "cells": [
  {
   "cell_type": "markdown",
   "id": "c2034a59",
   "metadata": {},
   "source": [
    "## If statements with \"FizzBuzz\""
   ]
  },
  {
   "cell_type": "code",
   "execution_count": 1,
   "id": "4ba398e8",
   "metadata": {},
   "outputs": [
    {
     "name": "stdout",
     "output_type": "stream",
     "text": [
      "1\n",
      "2\n",
      "Fizz\n",
      "4\n",
      "Buzz\n",
      "Fizz\n",
      "7\n",
      "8\n",
      "Fizz\n",
      "Buzz\n",
      "11\n",
      "Fizz\n",
      "13\n",
      "14\n",
      "FizzBuzz\n",
      "16\n",
      "17\n",
      "Fizz\n",
      "19\n",
      "Buzz\n",
      "Fizz\n",
      "22\n",
      "23\n",
      "Fizz\n",
      "Buzz\n",
      "26\n",
      "Fizz\n",
      "28\n",
      "29\n",
      "FizzBuzz\n",
      "31\n",
      "32\n",
      "Fizz\n",
      "34\n",
      "Buzz\n",
      "Fizz\n",
      "37\n",
      "38\n",
      "Fizz\n",
      "Buzz\n",
      "41\n",
      "Fizz\n",
      "43\n",
      "44\n",
      "FizzBuzz\n",
      "46\n",
      "47\n",
      "Fizz\n",
      "49\n",
      "Buzz\n",
      "Fizz\n",
      "52\n",
      "53\n",
      "Fizz\n",
      "Buzz\n",
      "56\n",
      "Fizz\n",
      "58\n",
      "59\n",
      "FizzBuzz\n",
      "61\n",
      "62\n",
      "Fizz\n",
      "64\n",
      "Buzz\n",
      "Fizz\n",
      "67\n",
      "68\n",
      "Fizz\n",
      "Buzz\n",
      "71\n",
      "Fizz\n",
      "73\n",
      "74\n",
      "FizzBuzz\n",
      "76\n",
      "77\n",
      "Fizz\n",
      "79\n",
      "Buzz\n",
      "Fizz\n",
      "82\n",
      "83\n",
      "Fizz\n",
      "Buzz\n",
      "86\n",
      "Fizz\n",
      "88\n",
      "89\n",
      "FizzBuzz\n",
      "91\n",
      "92\n",
      "Fizz\n",
      "94\n",
      "Buzz\n",
      "Fizz\n",
      "97\n",
      "98\n",
      "Fizz\n",
      "Buzz\n"
     ]
    }
   ],
   "source": [
    "# 1, 2, Fizz, 4, Buzz, Fizz, 7, 8, Fizz, Buzz, 11, Fizz, 13, FizzBuzz, 16\n",
    "\n",
    "for n in range(1, 101):\n",
    "    if n % 15 == 0:\n",
    "        print('FizzBuzz')\n",
    "    else:\n",
    "        if n % 3 == 0:\n",
    "            print('Fizz')\n",
    "        else:\n",
    "            if n % 5 == 0:\n",
    "                print('Buzz')\n",
    "            else:\n",
    "                print(n)"
   ]
  },
  {
   "cell_type": "markdown",
   "id": "4397b06b",
   "metadata": {},
   "source": [
    "### Elif statements"
   ]
  },
  {
   "cell_type": "code",
   "execution_count": 8,
   "id": "9e194f71",
   "metadata": {},
   "outputs": [
    {
     "name": "stdout",
     "output_type": "stream",
     "text": [
      "1\n",
      "2\n",
      "Fizz\n",
      "4\n",
      "Buzz\n",
      "Fizz\n",
      "7\n",
      "8\n",
      "Fizz\n",
      "Buzz\n",
      "11\n",
      "Fizz\n",
      "13\n",
      "14\n",
      "FizzBuzz\n",
      "16\n",
      "17\n",
      "Fizz\n",
      "19\n",
      "Buzz\n",
      "Fizz\n",
      "22\n",
      "23\n",
      "Fizz\n",
      "Buzz\n",
      "26\n",
      "Fizz\n",
      "28\n",
      "29\n",
      "FizzBuzz\n",
      "31\n",
      "32\n",
      "Fizz\n",
      "34\n",
      "Buzz\n",
      "Fizz\n",
      "37\n",
      "38\n",
      "Fizz\n",
      "Buzz\n",
      "41\n",
      "Fizz\n",
      "43\n",
      "44\n",
      "FizzBuzz\n",
      "46\n",
      "47\n",
      "Fizz\n",
      "49\n",
      "Buzz\n",
      "Fizz\n",
      "52\n",
      "53\n",
      "Fizz\n",
      "Buzz\n",
      "56\n",
      "Fizz\n",
      "58\n",
      "59\n",
      "FizzBuzz\n",
      "61\n",
      "62\n",
      "Fizz\n",
      "64\n",
      "Buzz\n",
      "Fizz\n",
      "67\n",
      "68\n",
      "Fizz\n",
      "Buzz\n",
      "71\n",
      "Fizz\n",
      "73\n",
      "74\n",
      "FizzBuzz\n",
      "76\n",
      "77\n",
      "Fizz\n",
      "79\n",
      "Buzz\n",
      "Fizz\n",
      "82\n",
      "83\n",
      "Fizz\n",
      "Buzz\n",
      "86\n",
      "Fizz\n",
      "88\n",
      "89\n",
      "FizzBuzz\n",
      "91\n",
      "92\n",
      "Fizz\n",
      "94\n",
      "Buzz\n",
      "Fizz\n",
      "97\n",
      "98\n",
      "Fizz\n",
      "Buzz\n"
     ]
    }
   ],
   "source": [
    "for n in range(1, 101):\n",
    "    if n % 15 == 0:\n",
    "        print('FizzBuzz')\n",
    "    elif n % 3 == 0:\n",
    "        print('Fizz')\n",
    "    elif n % 5 == 0:\n",
    "        print('Buzz')\n",
    "    else:\n",
    "        print(n)\n",
    "        \n"
   ]
  },
  {
   "cell_type": "markdown",
   "id": "1413eeef",
   "metadata": {},
   "source": [
    "### Single Line if statements"
   ]
  },
  {
   "cell_type": "code",
   "execution_count": 1,
   "id": "bd670c44",
   "metadata": {},
   "outputs": [
    {
     "name": "stdout",
     "output_type": "stream",
     "text": [
      "Fizz\n"
     ]
    }
   ],
   "source": [
    "n = 15\n",
    "print('Fizz' if n % 3 == 0 else n)"
   ]
  },
  {
   "cell_type": "code",
   "execution_count": 11,
   "id": "30aa0ab9",
   "metadata": {},
   "outputs": [],
   "source": [
    "fizzBuzz = 'Fizz' if n % 3 == 0 else n"
   ]
  },
  {
   "cell_type": "code",
   "execution_count": 12,
   "id": "8c657dbc",
   "metadata": {},
   "outputs": [
    {
     "data": {
      "text/plain": [
       "'Buzz'"
      ]
     },
     "execution_count": 12,
     "metadata": {},
     "output_type": "execute_result"
    }
   ],
   "source": [
    "'Fizz' if n % 3 == 0 else 'Buzz' if n % 5 == 0 else n"
   ]
  },
  {
   "cell_type": "code",
   "execution_count": 2,
   "id": "ac92cbb1",
   "metadata": {},
   "outputs": [
    {
     "data": {
      "text/plain": [
       "'FizzBuzz'"
      ]
     },
     "execution_count": 2,
     "metadata": {},
     "output_type": "execute_result"
    }
   ],
   "source": [
    "'FizzBuzz' if n % 15 == 0 else 'Fizz' if n % 3 == 0 else 'Buzz' if n % 5 == 0 else n"
   ]
  },
  {
   "cell_type": "code",
   "execution_count": 5,
   "id": "aab21dd3",
   "metadata": {},
   "outputs": [
    {
     "name": "stdout",
     "output_type": "stream",
     "text": [
      "[1, 2, {3, 'Fizz'}, 4, 'Buzz', {'Fizz', 6}, 7, 8, {9, 'Fizz'}, 'Buzz', 11, {12, 'Fizz'}, 13, 14, (15, 'FizzBuzz'), 16, 17, {18, 'Fizz'}, 19, 'Buzz', {21, 'Fizz'}, 22, 23, {24, 'Fizz'}, 'Buzz', 26, {27, 'Fizz'}, 28, 29, (30, 'FizzBuzz'), 31, 32, {33, 'Fizz'}, 34, 'Buzz', {36, 'Fizz'}, 37, 38, {'Fizz', 39}, 'Buzz', 41, {42, 'Fizz'}, 43, 44, (45, 'FizzBuzz'), 46, 47, {48, 'Fizz'}, 49, 'Buzz', {51, 'Fizz'}, 52, 53, {'Fizz', 54}, 'Buzz', 56, {57, 'Fizz'}, 58, 59, (60, 'FizzBuzz'), 61, 62, {'Fizz', 63}, 64, 'Buzz', {66, 'Fizz'}, 67, 68, {69, 'Fizz'}, 'Buzz', 71, {72, 'Fizz'}, 73, 74, (75, 'FizzBuzz'), 76, 77, {'Fizz', 78}, 79, 'Buzz', {81, 'Fizz'}, 82, 83, {84, 'Fizz'}, 'Buzz', 86, {'Fizz', 87}, 88, 89, (90, 'FizzBuzz'), 91, 92, {93, 'Fizz'}, 94, 'Buzz', {96, 'Fizz'}, 97, 98, {99, 'Fizz'}, 'Buzz']\n"
     ]
    }
   ],
   "source": [
    "print([(n,'FizzBuzz') if n % 15 == 0 else {n,'Fizz'} if n % 3 == 0 else 'Buzz' if n % 5 == 0 else n for n in range(1, 101)])"
   ]
  },
  {
   "cell_type": "code",
   "execution_count": null,
   "id": "84dfc5c8",
   "metadata": {},
   "outputs": [],
   "source": []
  }
 ],
 "metadata": {
  "kernelspec": {
   "display_name": "Python 3",
   "language": "python",
   "name": "python3"
  },
  "language_info": {
   "codemirror_mode": {
    "name": "ipython",
    "version": 3
   },
   "file_extension": ".py",
   "mimetype": "text/x-python",
   "name": "python",
   "nbconvert_exporter": "python",
   "pygments_lexer": "ipython3",
   "version": "3.13.0"
  }
 },
 "nbformat": 4,
 "nbformat_minor": 5
}
