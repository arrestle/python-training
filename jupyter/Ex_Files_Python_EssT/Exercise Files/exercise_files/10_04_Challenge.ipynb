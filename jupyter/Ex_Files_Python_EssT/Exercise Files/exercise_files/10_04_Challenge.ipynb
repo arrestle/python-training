{
 "cells": [
  {
   "cell_type": "markdown",
   "id": "b8bb2983",
   "metadata": {},
   "source": [
    "## ASCII Art Compression\n"
   ]
  },
  {
   "cell_type": "markdown",
   "id": "a354bdd4",
   "metadata": {},
   "source": [
    "**HINT 1:** Doing something like this will technically meet the requirements of this challenge:"
   ]
  },
  {
   "cell_type": "code",
   "execution_count": 6,
   "id": "312efa3a",
   "metadata": {},
   "outputs": [],
   "source": [
    "json.dumps(encodeString(text))"
   ]
  },
  {
   "cell_type": "markdown",
   "id": "df78ab6f",
   "metadata": {},
   "source": [
    "However, I hope you can find a more efficient compression algorithm than that!"
   ]
  },
  {
   "cell_type": "markdown",
   "id": "8ae1d0ad",
   "metadata": {},
   "source": [
    "**HINT 2:** Writing a list of tuples, there are a lot of instances of \"),(\" and lots of extra quotes and things, which is a lot of characters to devote to where perhaps a single comma would suffice..."
   ]
  },
  {
   "cell_type": "markdown",
   "id": "a13f0f7b",
   "metadata": {},
   "source": [
    "**HINT 3:** If you're looking for a longer challenge, you can look into writing bytes to a file. This is absolutely not necessary, however!"
   ]
  },
  {
   "cell_type": "code",
   "execution_count": 8,
   "id": "0ec1174a",
   "metadata": {},
   "outputs": [],
   "source": [
    "import os\n",
    "\n",
    "def encodeString(stringVal):\n",
    "    encodedList = []\n",
    "    prevChar = None\n",
    "    count = 0\n",
    "    for char in stringVal:\n",
    "        if prevChar != char and prevChar is not None:\n",
    "            encodedList.append((prevChar, count))\n",
    "            count = 0\n",
    "        prevChar = char\n",
    "        count = count + 1\n",
    "    encodedList.append((prevChar, count))\n",
    "    return encodedList\n",
    "\n",
    "def decodeString(encodedList):\n",
    "    decodedStr = ''\n",
    "    for item in encodedList:\n",
    "        decodedStr = decodedStr + item[0] * item[1]\n",
    "    return decodedStr"
   ]
  },
  {
   "cell_type": "code",
   "execution_count": 6,
   "id": "d4bb1637",
   "metadata": {},
   "outputs": [],
   "source": [
    "import json\n",
    "\n",
    "def encodeFile(filename, newFilename):\n",
    "    # Your code here!\n",
    "    in_file = open(filename, 'r')\n",
    "    with open(newFilename, 'w') as out_file:\n",
    "        for line in in_file:\n",
    "            encodedLine = encodeString(line)\n",
    "            out_file.write(json.dumps(encodedLine))\n",
    "    in_file.close()\n",
    "\n",
    "\n",
    "def decodeFile(filename):\n",
    "    # Your code here!\n",
    "    with open(filename, 'r') as in_file:\n",
    "        for line in in_file:\n",
    "            decodedLine = decodeString(json.loads(line))\n",
    "            print(decodedLine)\n",
    "\n"
   ]
  },
  {
   "cell_type": "code",
   "execution_count": 7,
   "id": "2740024f",
   "metadata": {},
   "outputs": [
    {
     "ename": "FileNotFoundError",
     "evalue": "[WinError 2] The system cannot find the file specified: '10_04_challenge_art.txt'",
     "output_type": "error",
     "traceback": [
      "\u001b[1;31m---------------------------------------------------------------------------\u001b[0m",
      "\u001b[1;31mFileNotFoundError\u001b[0m                         Traceback (most recent call last)",
      "Cell \u001b[1;32mIn[7], line 2\u001b[0m\n\u001b[0;32m      1\u001b[0m \u001b[38;5;28;01mimport\u001b[39;00m \u001b[38;5;21;01mos\u001b[39;00m\n\u001b[1;32m----> 2\u001b[0m \u001b[38;5;28mprint\u001b[39m(\u001b[38;5;124mf\u001b[39m\u001b[38;5;124m'\u001b[39m\u001b[38;5;124mOriginal file size: \u001b[39m\u001b[38;5;132;01m{\u001b[39;00m\u001b[43mos\u001b[49m\u001b[38;5;241;43m.\u001b[39;49m\u001b[43mpath\u001b[49m\u001b[38;5;241;43m.\u001b[39;49m\u001b[43mgetsize\u001b[49m\u001b[43m(\u001b[49m\u001b[38;5;124;43m\"\u001b[39;49m\u001b[38;5;124;43m10_04_challenge_art.txt\u001b[39;49m\u001b[38;5;124;43m\"\u001b[39;49m\u001b[43m)\u001b[49m\u001b[38;5;132;01m}\u001b[39;00m\u001b[38;5;124m'\u001b[39m)\n\u001b[0;32m      4\u001b[0m encodeFile(\u001b[38;5;124m'\u001b[39m\u001b[38;5;124m10_04_challenge_art.txt\u001b[39m\u001b[38;5;124m'\u001b[39m, \u001b[38;5;124m'\u001b[39m\u001b[38;5;124m10_04_challenge_art_encoded.txt\u001b[39m\u001b[38;5;124m'\u001b[39m)\n\u001b[0;32m      6\u001b[0m \u001b[38;5;28mprint\u001b[39m(\u001b[38;5;124mf\u001b[39m\u001b[38;5;124m'\u001b[39m\u001b[38;5;124mNew file size: \u001b[39m\u001b[38;5;132;01m{\u001b[39;00mos\u001b[38;5;241m.\u001b[39mpath\u001b[38;5;241m.\u001b[39mgetsize(\u001b[38;5;124m\"\u001b[39m\u001b[38;5;124m10_04_challenge_art_encoded.txt\u001b[39m\u001b[38;5;124m\"\u001b[39m)\u001b[38;5;132;01m}\u001b[39;00m\u001b[38;5;124m'\u001b[39m)\n",
      "File \u001b[1;32m<frozen genericpath>:86\u001b[0m, in \u001b[0;36mgetsize\u001b[1;34m(filename)\u001b[0m\n",
      "\u001b[1;31mFileNotFoundError\u001b[0m: [WinError 2] The system cannot find the file specified: '10_04_challenge_art.txt'"
     ]
    }
   ],
   "source": [
    "import os\n",
    "print(f'Original file size: {os.path.getsize(\"10_04_challenge_art.txt\")}')\n",
    "\n",
    "encodeFile('10_04_challenge_art.txt', '10_04_challenge_art_encoded.txt')\n",
    "\n",
    "print(f'New file size: {os.path.getsize(\"10_04_challenge_art_encoded.txt\")}')\n",
    "\n",
    "\n",
    "\n",
    "\n"
   ]
  },
  {
   "cell_type": "code",
   "execution_count": 11,
   "id": "985e9278",
   "metadata": {},
   "outputs": [],
   "source": [
    "decodeFile('10_04_challenge_art_encoded.txt')"
   ]
  },
  {
   "cell_type": "code",
   "execution_count": null,
   "id": "9fe8cf03",
   "metadata": {},
   "outputs": [],
   "source": []
  }
 ],
 "metadata": {
  "kernelspec": {
   "display_name": "Python 3",
   "language": "python",
   "name": "python3"
  },
  "language_info": {
   "codemirror_mode": {
    "name": "ipython",
    "version": 3
   },
   "file_extension": ".py",
   "mimetype": "text/x-python",
   "name": "python",
   "nbconvert_exporter": "python",
   "pygments_lexer": "ipython3",
   "version": "3.13.0"
  }
 },
 "nbformat": 4,
 "nbformat_minor": 5
}
