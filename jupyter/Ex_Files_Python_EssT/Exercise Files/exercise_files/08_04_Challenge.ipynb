{
 "cells": [
  {
   "cell_type": "markdown",
   "id": "5493bdf7",
   "metadata": {},
   "source": [
    "## Bad Arguments\n"
   ]
  },
  {
   "cell_type": "markdown",
   "id": "7e61d190",
   "metadata": {},
   "source": [
    "### Challenge Hints!\n",
    "\n",
    "**HINT 1:** To be clear, you do need to write your NonIntArgumentException class. I suggest something like:"
   ]
  },
  {
   "cell_type": "code",
   "execution_count": 1,
   "id": "0a0528dc",
   "metadata": {},
   "outputs": [],
   "source": [
    "class NonIntArgumentException(Exception):\n",
    "    pass"
   ]
  },
  {
   "cell_type": "markdown",
   "id": "32f67063",
   "metadata": {},
   "source": [
    "**HINT 2:** Review the example we used in 08_02_HandlingException.ipynb (copied below). How would you modify this to examine the arguments (args) passed into the function before calling the function? \n"
   ]
  },
  {
   "cell_type": "code",
   "execution_count": 2,
   "id": "23429ac0-a013-4d76-aec7-7f069e66bc9d",
   "metadata": {},
   "outputs": [
    {
     "name": "stdout",
     "output_type": "stream",
     "text": [
      "There was a zero division error!\n"
     ]
    }
   ],
   "source": [
    "def handleException(func):\n",
    "    def wrapper(*args):\n",
    "        try:\n",
    "            func(*args)\n",
    "        except TypeError:\n",
    "            print('There was a type error!')\n",
    "        except ZeroDivisionError:\n",
    "            print('There was a zero division error!')\n",
    "        except Exception:\n",
    "            print('There was some sort of error!')\n",
    "    return wrapper\n",
    "\n",
    "@handleException\n",
    "def causeError():\n",
    "    return 1/0\n",
    "\n",
    "causeError()"
   ]
  },
  {
   "cell_type": "markdown",
   "id": "db53f14d",
   "metadata": {},
   "source": [
    "**Hint 3:** Remember that args is just an iterable tuple of arguments. You can examine them like this:"
   ]
  },
  {
   "cell_type": "code",
   "execution_count": 5,
   "id": "e80893e9",
   "metadata": {},
   "outputs": [
    {
     "name": "stdout",
     "output_type": "stream",
     "text": [
      "a is not not an integer!\n"
     ]
    }
   ],
   "source": [
    "args = (1, 2, 3, 'a')\n",
    "\n",
    "for arg in args: \n",
    "    if type(arg) is not int:\n",
    "        print(f'{arg} is not not an integer!')"
   ]
  },
  {
   "cell_type": "code",
   "execution_count": 27,
   "id": "e4f0988b",
   "metadata": {},
   "outputs": [
    {
     "name": "stdout",
     "output_type": "stream",
     "text": [
      "sumArguments 6\n"
     ]
    },
    {
     "ename": "NonIntArgumentException",
     "evalue": "Message: non-int argument",
     "output_type": "error",
     "traceback": [
      "\u001b[1;31m---------------------------------------------------------------------------\u001b[0m",
      "\u001b[1;31mTypeError\u001b[0m                                 Traceback (most recent call last)",
      "Cell \u001b[1;32mIn[27], line 10\u001b[0m, in \u001b[0;36mhandleNonIntArguments.<locals>.wrapper\u001b[1;34m(*args)\u001b[0m\n\u001b[0;32m      9\u001b[0m \u001b[38;5;28;01mtry\u001b[39;00m:\n\u001b[1;32m---> 10\u001b[0m     \u001b[38;5;28;01mreturn\u001b[39;00m \u001b[43mfunc\u001b[49m\u001b[43m(\u001b[49m\u001b[38;5;241;43m*\u001b[39;49m\u001b[43margs\u001b[49m\u001b[43m)\u001b[49m\n\u001b[0;32m     11\u001b[0m \u001b[38;5;28;01mexcept\u001b[39;00m \u001b[38;5;167;01mException\u001b[39;00m \u001b[38;5;28;01mas\u001b[39;00m e:\n",
      "Cell \u001b[1;32mIn[27], line 20\u001b[0m, in \u001b[0;36msumArguments\u001b[1;34m(*args)\u001b[0m\n\u001b[0;32m     19\u001b[0m \u001b[38;5;28;01mfor\u001b[39;00m arg \u001b[38;5;129;01min\u001b[39;00m args:\n\u001b[1;32m---> 20\u001b[0m     mySum \u001b[38;5;241m=\u001b[39m \u001b[43mmySum\u001b[49m\u001b[43m \u001b[49m\u001b[38;5;241;43m+\u001b[39;49m\u001b[43m \u001b[49m\u001b[43marg\u001b[49m\n\u001b[0;32m     21\u001b[0m \u001b[38;5;28;01mreturn\u001b[39;00m mySum\n",
      "\u001b[1;31mTypeError\u001b[0m: unsupported operand type(s) for +: 'int' and 'str'",
      "\nThe above exception was the direct cause of the following exception:\n",
      "\u001b[1;31mNonIntArgumentException\u001b[0m                   Traceback (most recent call last)",
      "Cell \u001b[1;32mIn[27], line 24\u001b[0m\n\u001b[0;32m     21\u001b[0m     \u001b[38;5;28;01mreturn\u001b[39;00m mySum\n\u001b[0;32m     23\u001b[0m \u001b[38;5;28mprint\u001b[39m(\u001b[38;5;124m'\u001b[39m\u001b[38;5;124msumArguments\u001b[39m\u001b[38;5;124m'\u001b[39m, sumArguments(\u001b[38;5;241m1\u001b[39m,\u001b[38;5;241m2\u001b[39m,\u001b[38;5;241m3\u001b[39m))\n\u001b[1;32m---> 24\u001b[0m \u001b[38;5;28mprint\u001b[39m(\u001b[38;5;124m'\u001b[39m\u001b[38;5;124msumArguments\u001b[39m\u001b[38;5;124m'\u001b[39m, \u001b[43msumArguments\u001b[49m\u001b[43m(\u001b[49m\u001b[38;5;241;43m1\u001b[39;49m\u001b[43m,\u001b[49m\u001b[38;5;241;43m2\u001b[39;49m\u001b[43m,\u001b[49m\u001b[38;5;241;43m3\u001b[39;49m\u001b[43m,\u001b[49m\u001b[43m \u001b[49m\u001b[38;5;124;43m'\u001b[39;49m\u001b[38;5;124;43ma\u001b[39;49m\u001b[38;5;124;43m'\u001b[39;49m\u001b[43m)\u001b[49m)\n",
      "Cell \u001b[1;32mIn[27], line 12\u001b[0m, in \u001b[0;36mhandleNonIntArguments.<locals>.wrapper\u001b[1;34m(*args)\u001b[0m\n\u001b[0;32m     10\u001b[0m     \u001b[38;5;28;01mreturn\u001b[39;00m func(\u001b[38;5;241m*\u001b[39margs)\n\u001b[0;32m     11\u001b[0m \u001b[38;5;28;01mexcept\u001b[39;00m \u001b[38;5;167;01mException\u001b[39;00m \u001b[38;5;28;01mas\u001b[39;00m e:\n\u001b[1;32m---> 12\u001b[0m     \u001b[38;5;28;01mraise\u001b[39;00m NonIntArgumentException(\u001b[38;5;124m'\u001b[39m\u001b[38;5;124mnon-int argument\u001b[39m\u001b[38;5;124m'\u001b[39m) \u001b[38;5;28;01mfrom\u001b[39;00m \u001b[38;5;21;01me\u001b[39;00m\n",
      "\u001b[1;31mNonIntArgumentException\u001b[0m: Message: non-int argument"
     ]
    }
   ],
   "source": [
    "class NonIntArgumentException(Exception):\n",
    "    def __init__(self, message=None):\n",
    "        # Set the message attribute and pass it to the base Exception class\n",
    "        self.message = message\n",
    "        super().__init__(f'Message: {self.message}')\n",
    "\n",
    "def handleNonIntArguments(func):\n",
    "    def wrapper(*args):\n",
    "        try:\n",
    "            return func(*args)\n",
    "        except Exception as e:\n",
    "            raise NonIntArgumentException('non-int argument') from e\n",
    "    return wrapper\n",
    "\n",
    "@handleNonIntArguments\n",
    "def sumArguments(*args):\n",
    "    #add any number of argumens together assume they are all integers\n",
    "    mySum = 0\n",
    "    for arg in args:\n",
    "        mySum = mySum + arg\n",
    "    return mySum\n",
    "\n",
    "print('sumArguments', sumArguments(1,2,3))\n",
    "print('sumArguments', sumArguments(1,2,3, 'a'))"
   ]
  },
  {
   "cell_type": "code",
   "execution_count": 28,
   "id": "ec6d894d",
   "metadata": {},
   "outputs": [
    {
     "name": "stdout",
     "output_type": "stream",
     "text": [
      "sumArguments 6\n"
     ]
    },
    {
     "ename": "TypeError",
     "evalue": "NonIntArgumentException.__init__() takes 1 positional argument but 2 were given",
     "output_type": "error",
     "traceback": [
      "\u001b[1;31m---------------------------------------------------------------------------\u001b[0m",
      "\u001b[1;31mTypeError\u001b[0m                                 Traceback (most recent call last)",
      "Cell \u001b[1;32mIn[28], line 9\u001b[0m, in \u001b[0;36mhandleNonIntArguments.<locals>.wrapper\u001b[1;34m(*args)\u001b[0m\n\u001b[0;32m      8\u001b[0m \u001b[38;5;28;01mtry\u001b[39;00m:\n\u001b[1;32m----> 9\u001b[0m     \u001b[38;5;28;01mreturn\u001b[39;00m \u001b[43mfunc\u001b[49m\u001b[43m(\u001b[49m\u001b[38;5;241;43m*\u001b[39;49m\u001b[43margs\u001b[49m\u001b[43m)\u001b[49m  \u001b[38;5;66;03m# Return the result of the wrapped function\u001b[39;00m\n\u001b[0;32m     10\u001b[0m \u001b[38;5;28;01mexcept\u001b[39;00m \u001b[38;5;167;01mTypeError\u001b[39;00m:\n",
      "Cell \u001b[1;32mIn[28], line 21\u001b[0m, in \u001b[0;36msumArguments\u001b[1;34m(*args)\u001b[0m\n\u001b[0;32m     20\u001b[0m \u001b[38;5;28;01mfor\u001b[39;00m arg \u001b[38;5;129;01min\u001b[39;00m args:\n\u001b[1;32m---> 21\u001b[0m     mySum \u001b[38;5;241m=\u001b[39m \u001b[43mmySum\u001b[49m\u001b[43m \u001b[49m\u001b[38;5;241;43m+\u001b[39;49m\u001b[43m \u001b[49m\u001b[43marg\u001b[49m\n\u001b[0;32m     22\u001b[0m \u001b[38;5;28;01mreturn\u001b[39;00m mySum\n",
      "\u001b[1;31mTypeError\u001b[0m: unsupported operand type(s) for +: 'int' and 'str'",
      "\nDuring handling of the above exception, another exception occurred:\n",
      "\u001b[1;31mTypeError\u001b[0m                                 Traceback (most recent call last)",
      "Cell \u001b[1;32mIn[28], line 26\u001b[0m\n\u001b[0;32m     24\u001b[0m \u001b[38;5;66;03m# Test the function\u001b[39;00m\n\u001b[0;32m     25\u001b[0m \u001b[38;5;28mprint\u001b[39m(\u001b[38;5;124m'\u001b[39m\u001b[38;5;124msumArguments\u001b[39m\u001b[38;5;124m'\u001b[39m, sumArguments(\u001b[38;5;241m1\u001b[39m, \u001b[38;5;241m2\u001b[39m, \u001b[38;5;241m3\u001b[39m))\n\u001b[1;32m---> 26\u001b[0m \u001b[38;5;28mprint\u001b[39m(\u001b[38;5;124m'\u001b[39m\u001b[38;5;124msumArguments\u001b[39m\u001b[38;5;124m'\u001b[39m, \u001b[43msumArguments\u001b[49m\u001b[43m(\u001b[49m\u001b[38;5;241;43m1\u001b[39;49m\u001b[43m,\u001b[49m\u001b[38;5;241;43m2\u001b[39;49m\u001b[43m,\u001b[49m\u001b[38;5;241;43m3\u001b[39;49m\u001b[43m,\u001b[49m\u001b[43m \u001b[49m\u001b[38;5;124;43m'\u001b[39;49m\u001b[38;5;124;43ma\u001b[39;49m\u001b[38;5;124;43m'\u001b[39;49m\u001b[43m)\u001b[49m)\n",
      "Cell \u001b[1;32mIn[28], line 11\u001b[0m, in \u001b[0;36mhandleNonIntArguments.<locals>.wrapper\u001b[1;34m(*args)\u001b[0m\n\u001b[0;32m      9\u001b[0m     \u001b[38;5;28;01mreturn\u001b[39;00m func(\u001b[38;5;241m*\u001b[39margs)  \u001b[38;5;66;03m# Return the result of the wrapped function\u001b[39;00m\n\u001b[0;32m     10\u001b[0m \u001b[38;5;28;01mexcept\u001b[39;00m \u001b[38;5;167;01mTypeError\u001b[39;00m:\n\u001b[1;32m---> 11\u001b[0m     \u001b[38;5;28;01mreturn\u001b[39;00m \u001b[43mNonIntArgumentException\u001b[49m\u001b[43m(\u001b[49m\u001b[38;5;124;43m'\u001b[39;49m\u001b[38;5;124;43mNon-integer argument provided!\u001b[39;49m\u001b[38;5;124;43m'\u001b[39;49m\u001b[43m)\u001b[49m\n\u001b[0;32m     12\u001b[0m \u001b[38;5;28;01mexcept\u001b[39;00m \u001b[38;5;167;01mException\u001b[39;00m \u001b[38;5;28;01mas\u001b[39;00m e:\n\u001b[0;32m     13\u001b[0m     \u001b[38;5;28;01mreturn\u001b[39;00m e\n",
      "\u001b[1;31mTypeError\u001b[0m: NonIntArgumentException.__init__() takes 1 positional argument but 2 were given"
     ]
    }
   ],
   "source": [
    "class NonIntArgumentException(Exception):\n",
    "    message = None\n",
    "    def __init__(self):\n",
    "        super().__init__(f'Message: {self.message}')\n",
    "\n",
    "def handleNonIntArguments(func):\n",
    "    def wrapper(*args):\n",
    "        try:\n",
    "            return func(*args)  # Return the result of the wrapped function\n",
    "        except TypeError:\n",
    "            return NonIntArgumentException('Non-integer argument provided!')\n",
    "        except Exception as e:\n",
    "            return e\n",
    "    return wrapper\n",
    "\n",
    "@handleNonIntArguments\n",
    "def sumArguments(*args):\n",
    "    # Add any number of arguments together, assume they are all integers\n",
    "    mySum = 0\n",
    "    for arg in args:\n",
    "        mySum = mySum + arg\n",
    "    return mySum\n",
    "\n",
    "# Test the function\n",
    "print('sumArguments', sumArguments(1, 2, 3))\n",
    "print('sumArguments', sumArguments(1,2,3, 'a'))\n"
   ]
  },
  {
   "cell_type": "code",
   "execution_count": 31,
   "id": "994c8a02",
   "metadata": {},
   "outputs": [
    {
     "name": "stdout",
     "output_type": "stream",
     "text": [
      "sumArguments 6\n"
     ]
    },
    {
     "ename": "NonIntArgumentException",
     "evalue": "Message: non-int argument",
     "output_type": "error",
     "traceback": [
      "\u001b[1;31m---------------------------------------------------------------------------\u001b[0m",
      "\u001b[1;31mTypeError\u001b[0m                                 Traceback (most recent call last)",
      "Cell \u001b[1;32mIn[31], line 9\u001b[0m, in \u001b[0;36mhandleNonIntArguments.<locals>.wrapper\u001b[1;34m(*args)\u001b[0m\n\u001b[0;32m      8\u001b[0m \u001b[38;5;28;01mtry\u001b[39;00m:\n\u001b[1;32m----> 9\u001b[0m     \u001b[38;5;28;01mreturn\u001b[39;00m \u001b[43mfunc\u001b[49m\u001b[43m(\u001b[49m\u001b[38;5;241;43m*\u001b[39;49m\u001b[43margs\u001b[49m\u001b[43m)\u001b[49m\n\u001b[0;32m     10\u001b[0m \u001b[38;5;28;01mexcept\u001b[39;00m \u001b[38;5;167;01mException\u001b[39;00m:\n\u001b[0;32m     11\u001b[0m     \u001b[38;5;66;03m# Raise your custom exception without referencing the original one\u001b[39;00m\n",
      "Cell \u001b[1;32mIn[31], line 20\u001b[0m, in \u001b[0;36msumArguments\u001b[1;34m(*args)\u001b[0m\n\u001b[0;32m     19\u001b[0m \u001b[38;5;28;01mfor\u001b[39;00m arg \u001b[38;5;129;01min\u001b[39;00m args:\n\u001b[1;32m---> 20\u001b[0m     mySum \u001b[38;5;241m=\u001b[39m \u001b[43mmySum\u001b[49m\u001b[43m \u001b[49m\u001b[38;5;241;43m+\u001b[39;49m\u001b[43m \u001b[49m\u001b[43marg\u001b[49m\n\u001b[0;32m     21\u001b[0m \u001b[38;5;28;01mreturn\u001b[39;00m mySum\n",
      "\u001b[1;31mTypeError\u001b[0m: unsupported operand type(s) for +: 'int' and 'str'",
      "\nDuring handling of the above exception, another exception occurred:\n",
      "\u001b[1;31mNonIntArgumentException\u001b[0m                   Traceback (most recent call last)",
      "Cell \u001b[1;32mIn[31], line 25\u001b[0m\n\u001b[0;32m     23\u001b[0m \u001b[38;5;66;03m# Test cases    \u001b[39;00m\n\u001b[0;32m     24\u001b[0m \u001b[38;5;28mprint\u001b[39m(\u001b[38;5;124m'\u001b[39m\u001b[38;5;124msumArguments\u001b[39m\u001b[38;5;124m'\u001b[39m, sumArguments(\u001b[38;5;241m1\u001b[39m, \u001b[38;5;241m2\u001b[39m, \u001b[38;5;241m3\u001b[39m))       \u001b[38;5;66;03m# Should work fine\u001b[39;00m\n\u001b[1;32m---> 25\u001b[0m \u001b[38;5;28mprint\u001b[39m(\u001b[38;5;124m'\u001b[39m\u001b[38;5;124msumArguments\u001b[39m\u001b[38;5;124m'\u001b[39m, \u001b[43msumArguments\u001b[49m\u001b[43m(\u001b[49m\u001b[38;5;241;43m1\u001b[39;49m\u001b[43m,\u001b[49m\u001b[43m \u001b[49m\u001b[38;5;241;43m2\u001b[39;49m\u001b[43m,\u001b[49m\u001b[43m \u001b[49m\u001b[38;5;241;43m3\u001b[39;49m\u001b[43m,\u001b[49m\u001b[43m \u001b[49m\u001b[38;5;124;43m'\u001b[39;49m\u001b[38;5;124;43ma\u001b[39;49m\u001b[38;5;124;43m'\u001b[39;49m\u001b[43m)\u001b[49m)  \u001b[38;5;66;03m# Should raise NonIntArgumentException\u001b[39;00m\n",
      "Cell \u001b[1;32mIn[31], line 12\u001b[0m, in \u001b[0;36mhandleNonIntArguments.<locals>.wrapper\u001b[1;34m(*args)\u001b[0m\n\u001b[0;32m      9\u001b[0m     \u001b[38;5;28;01mreturn\u001b[39;00m func(\u001b[38;5;241m*\u001b[39margs)\n\u001b[0;32m     10\u001b[0m \u001b[38;5;28;01mexcept\u001b[39;00m \u001b[38;5;167;01mException\u001b[39;00m:\n\u001b[0;32m     11\u001b[0m     \u001b[38;5;66;03m# Raise your custom exception without referencing the original one\u001b[39;00m\n\u001b[1;32m---> 12\u001b[0m     \u001b[38;5;28;01mraise\u001b[39;00m NonIntArgumentException(\u001b[38;5;124m'\u001b[39m\u001b[38;5;124mnon-int argument\u001b[39m\u001b[38;5;124m'\u001b[39m)\n",
      "\u001b[1;31mNonIntArgumentException\u001b[0m: Message: non-int argument"
     ]
    }
   ],
   "source": [
    "class NonIntArgumentException(Exception):\n",
    "    def __init__(self, message=None):\n",
    "        self.message = message\n",
    "        super().__init__(f'Message: {self.message}')\n",
    "\n",
    "def handleNonIntArguments(func):\n",
    "    def wrapper(*args):\n",
    "        try:\n",
    "            return func(*args)\n",
    "        except Exception:\n",
    "            # Raise your custom exception without referencing the original one\n",
    "            raise NonIntArgumentException('non-int argument')\n",
    "    return wrapper\n",
    "\n",
    "@handleNonIntArguments\n",
    "def sumArguments(*args):\n",
    "    # Add any number of arguments together, assume they are all integers\n",
    "    mySum = 0\n",
    "    for arg in args:\n",
    "        mySum = mySum + arg\n",
    "    return mySum\n",
    "\n",
    "# Test cases    \n",
    "print('sumArguments', sumArguments(1, 2, 3))       # Should work fine\n",
    "print('sumArguments', sumArguments(1, 2, 3, 'a'))  # Should raise NonIntArgumentException"
   ]
  },
  {
   "cell_type": "code",
   "execution_count": 34,
   "id": "e9e19350",
   "metadata": {},
   "outputs": [
    {
     "name": "stdout",
     "output_type": "stream",
     "text": [
      "summer 6\n"
     ]
    },
    {
     "ename": "NonIntArgumentException",
     "evalue": "Non-int argument: a",
     "output_type": "error",
     "traceback": [
      "\u001b[1;31m---------------------------------------------------------------------------\u001b[0m",
      "\u001b[1;31mNonIntArgumentException\u001b[0m                   Traceback (most recent call last)",
      "Cell \u001b[1;32mIn[34], line 21\u001b[0m\n\u001b[0;32m     17\u001b[0m     \u001b[38;5;28;01mreturn\u001b[39;00m a \u001b[38;5;241m+\u001b[39m b \u001b[38;5;241m+\u001b[39m c\n\u001b[0;32m     20\u001b[0m \u001b[38;5;28mprint\u001b[39m(\u001b[38;5;124m'\u001b[39m\u001b[38;5;124msummer\u001b[39m\u001b[38;5;124m'\u001b[39m, summer(\u001b[38;5;241m1\u001b[39m, \u001b[38;5;241m2\u001b[39m, \u001b[38;5;241m3\u001b[39m))\n\u001b[1;32m---> 21\u001b[0m \u001b[38;5;28mprint\u001b[39m(\u001b[38;5;124m'\u001b[39m\u001b[38;5;124msummer\u001b[39m\u001b[38;5;124m'\u001b[39m, \u001b[43msummer\u001b[49m\u001b[43m(\u001b[49m\u001b[38;5;241;43m1\u001b[39;49m\u001b[43m,\u001b[49m\u001b[43m \u001b[49m\u001b[38;5;241;43m2\u001b[39;49m\u001b[43m,\u001b[49m\u001b[43m \u001b[49m\u001b[38;5;124;43m'\u001b[39;49m\u001b[38;5;124;43ma\u001b[39;49m\u001b[38;5;124;43m'\u001b[39;49m\u001b[43m)\u001b[49m)\n",
      "Cell \u001b[1;32mIn[34], line 10\u001b[0m, in \u001b[0;36mhandleNonIntArguments.<locals>.wrapper\u001b[1;34m(*args)\u001b[0m\n\u001b[0;32m      8\u001b[0m \u001b[38;5;28;01mfor\u001b[39;00m arg \u001b[38;5;129;01min\u001b[39;00m args:\n\u001b[0;32m      9\u001b[0m     \u001b[38;5;28;01mif\u001b[39;00m \u001b[38;5;129;01mnot\u001b[39;00m \u001b[38;5;28misinstance\u001b[39m(arg, \u001b[38;5;28mint\u001b[39m):\n\u001b[1;32m---> 10\u001b[0m         \u001b[38;5;28;01mraise\u001b[39;00m NonIntArgumentException(arg)\n\u001b[0;32m     11\u001b[0m \u001b[38;5;28;01mreturn\u001b[39;00m func(\u001b[38;5;241m*\u001b[39margs)\n",
      "\u001b[1;31mNonIntArgumentException\u001b[0m: Non-int argument: a"
     ]
    }
   ],
   "source": [
    "class NonIntArgumentException(Exception):\n",
    "    def __init__(self, message=None):\n",
    "        self.message = message\n",
    "        super().__init__(f'Non-int argument: {self.message}')\n",
    "\n",
    "def handleNonIntArguments(func):\n",
    "    def wrapper(*args):\n",
    "        for arg in args:\n",
    "            if not isinstance(arg, int):\n",
    "                raise NonIntArgumentException(arg)\n",
    "        return func(*args)\n",
    "\n",
    "    return wrapper\n",
    "\n",
    "@handleNonIntArguments\n",
    "def summer(a, b, c):\n",
    "    return a + b + c\n",
    "\n",
    "\n",
    "print('summer', summer(1, 2, 3))\n",
    "print('summer', summer(1, 2, 'a'))\n"
   ]
  },
  {
   "cell_type": "code",
   "execution_count": 35,
   "id": "99f612b6",
   "metadata": {},
   "outputs": [
    {
     "name": "stdout",
     "output_type": "stream",
     "text": [
      "ArithmeticError\n"
     ]
    }
   ],
   "source": [
    "try:\n",
    "    1/0\n",
    "except ArithmeticError:\n",
    "    print('ArithmeticError')\n",
    "except Exception:\n",
    "    print('Exception')\n",
    "except DivisionByZeroError:\n",
    "    print('DivisionByZero')"
   ]
  }
 ],
 "metadata": {
  "kernelspec": {
   "display_name": "Python 3",
   "language": "python",
   "name": "python3"
  },
  "language_info": {
   "codemirror_mode": {
    "name": "ipython",
    "version": 3
   },
   "file_extension": ".py",
   "mimetype": "text/x-python",
   "name": "python",
   "nbconvert_exporter": "python",
   "pygments_lexer": "ipython3",
   "version": "3.13.0"
  }
 },
 "nbformat": 4,
 "nbformat_minor": 5
}
