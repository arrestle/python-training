{
 "cells": [
  {
   "cell_type": "markdown",
   "id": "7e7cecd6",
   "metadata": {},
   "source": [
    "## Classes"
   ]
  },
  {
   "cell_type": "code",
   "execution_count": 6,
   "id": "d5cde69b",
   "metadata": {},
   "outputs": [],
   "source": [
    "class Dog:\n",
    "    def __init__(self, name):\n",
    "        self.name = name\n",
    "        self.legs = 4\n",
    "    \n",
    "    def speak(self):\n",
    "        print(self.name + ' says: Bark!')\n",
    "        \n"
   ]
  },
  {
   "cell_type": "code",
   "execution_count": 7,
   "id": "5b3dde35",
   "metadata": {},
   "outputs": [],
   "source": [
    "my_dog = Dog('Rover')\n",
    "another_dog = Dog('Fluffy')"
   ]
  },
  {
   "cell_type": "code",
   "execution_count": 8,
   "id": "ceed1af6",
   "metadata": {},
   "outputs": [
    {
     "name": "stdout",
     "output_type": "stream",
     "text": [
      "Rover says: Bark!\n"
     ]
    }
   ],
   "source": [
    "my_dog.speak()"
   ]
  },
  {
   "cell_type": "code",
   "execution_count": 9,
   "id": "b85ea67b",
   "metadata": {},
   "outputs": [
    {
     "name": "stdout",
     "output_type": "stream",
     "text": [
      "Fluffy says: Bark!\n"
     ]
    }
   ],
   "source": [
    "another_dog.speak()"
   ]
  },
  {
   "cell_type": "code",
   "execution_count": 13,
   "id": "5d1838eb",
   "metadata": {},
   "outputs": [
    {
     "name": "stdout",
     "output_type": "stream",
     "text": [
      "Rover of type Dog says: Hello!\n",
      "Whiskers the cat says: Meow!\n",
      "Bubbles the fish says: Blub!\n"
     ]
    }
   ],
   "source": [
    "class Animal:\n",
    "    def __init__(self, name, animal_type, legs):\n",
    "        self.name = name\n",
    "        self.legs = legs\n",
    "        self.animal_type = animal_type\n",
    "    \n",
    "    def speak(self):\n",
    "        print(self.name + ' of type ' + self.animal_type + ' says: Hello!')\n",
    "\n",
    "class Cat(Animal):\n",
    "    def __init__(self, name):\n",
    "        super().__init__(name, 'Cat', 4)\n",
    "    \n",
    "    def speak(self):\n",
    "        print(self.name + ' the cat says: Meow!')\n",
    "\n",
    "class Fish(Animal):\n",
    "    def __init__(self, name):\n",
    "        super().__init__(name, 'Fish', 0)\n",
    "    \n",
    "    def speak(s):\n",
    "        print(s.name + ' the fish says: Blub!')\n",
    "\n",
    "my_animal = Animal('Rover', 'Dog', 4)\n",
    "my_cat = Cat('Whiskers')\n",
    "my_fish = Fish('Bubbles')\n",
    "my_integer = 6\n",
    "\n",
    "animals = [my_animal, my_cat, my_fish]\n",
    "for animal in animals:\n",
    "    animal.speak()"
   ]
  }
 ],
 "metadata": {
  "kernelspec": {
   "display_name": "Python 3",
   "language": "python",
   "name": "python3"
  },
  "language_info": {
   "codemirror_mode": {
    "name": "ipython",
    "version": 3
   },
   "file_extension": ".py",
   "mimetype": "text/x-python",
   "name": "python",
   "nbconvert_exporter": "python",
   "pygments_lexer": "ipython3",
   "version": "3.13.0"
  }
 },
 "nbformat": 4,
 "nbformat_minor": 5
}
